{
 "cells": [
  {
   "cell_type": "code",
   "execution_count": 1,
   "metadata": {},
   "outputs": [],
   "source": [
    "from sklearn.model_selection import train_test_split\n",
    "import pandas as pd\n",
    "\n",
    "high_correlations = pd.read_csv('high_correlations.csv')\n",
    "target_variable = high_correlations['market_value_capped']\n",
    "high_correlations = high_correlations.drop(columns=['market_value_capped'])\n",
    "X_train, X_test, y_train, y_test = train_test_split(high_correlations, target_variable, test_size=0.2, random_state=42)\n",
    "\n",
    "\n",
    "pca_10principal = pd.read_csv('pca_10component.csv')\n",
    "target_variable = pca_10principal['market_value_capped']\n",
    "pca_10principal = pca_10principal.drop(columns=['market_value_capped'])\n",
    "PCA_X_train, PCA_X_test, PCA_y_train, PCA_y_test = train_test_split(pca_10principal, target_variable, test_size=0.2, random_state=42)"
   ]
  },
  {
   "cell_type": "markdown",
   "metadata": {},
   "source": [
    "# Linear Regression Models"
   ]
  },
  {
   "cell_type": "code",
   "execution_count": 10,
   "metadata": {},
   "outputs": [
    {
     "name": "stdout",
     "output_type": "stream",
     "text": [
      "HIGH_CORR_LIN_MODEL: 0.967245970872718\n",
      "HIGH_CORR_LIN_MODEL RMSE: 14054.968023121482\n",
      "PCA_LIN_MODEL: 0.9263121943032401\n",
      "PCA_LIN_MODEL RMSE: 21081.199029297244\n"
     ]
    }
   ],
   "source": [
    "from sklearn.linear_model import LinearRegression\n",
    "from sklearn.metrics import root_mean_squared_error\n",
    "\n",
    "lin_model = LinearRegression()\n",
    "lin_model.fit(X_train, y_train)\n",
    "print(\"HIGH_CORR_LIN_MODEL:\", lin_model.score(X_test, y_test))\n",
    "print(\"HIGH_CORR_LIN_MODEL RMSE:\", root_mean_squared_error(lin_model.predict(X_test), y_test))\n",
    "\n",
    "pca_lin_model = LinearRegression()\n",
    "pca_lin_model.fit(PCA_X_train, PCA_y_train)\n",
    "print(\"PCA_LIN_MODEL:\", pca_lin_model.score(PCA_X_test, PCA_y_test))\n",
    "print(\"PCA_LIN_MODEL RMSE:\", root_mean_squared_error(pca_lin_model.predict(PCA_X_test), PCA_y_test))"
   ]
  },
  {
   "cell_type": "code",
   "execution_count": 11,
   "metadata": {},
   "outputs": [
    {
     "name": "stdout",
     "output_type": "stream",
     "text": [
      "HIGH_CORR_DEC_MODEL: 0.9943288970970062\n",
      "HIGH_CORR_DEC_MODEL RMSE: 5848.321785137958\n",
      "PCA_DEC_MODEL: 0.9348254569315383\n",
      "PCA_DEC_MODEL RMSE: 19826.063551293224\n"
     ]
    }
   ],
   "source": [
    "from sklearn.tree import DecisionTreeRegressor\n",
    "from sklearn.metrics import root_mean_squared_error\n",
    "\n",
    "decision_model = DecisionTreeRegressor()\n",
    "decision_model.fit(X_train, y_train)\n",
    "print(\"HIGH_CORR_DEC_MODEL:\", decision_model.score(X_test, y_test))\n",
    "print(\"HIGH_CORR_DEC_MODEL RMSE:\", root_mean_squared_error(decision_model.predict(X_test), y_test))\n",
    "\n",
    "pca_decision_model = DecisionTreeRegressor()\n",
    "pca_decision_model.fit(PCA_X_train, PCA_y_train)\n",
    "print(\"PCA_DEC_MODEL:\", pca_decision_model.score(PCA_X_test, PCA_y_test))\n",
    "print(\"PCA_DEC_MODEL RMSE:\", root_mean_squared_error(pca_decision_model.predict(PCA_X_test), PCA_y_test))"
   ]
  },
  {
   "cell_type": "code",
   "execution_count": 12,
   "metadata": {},
   "outputs": [
    {
     "name": "stdout",
     "output_type": "stream",
     "text": [
      "HIGH_CORR_FOREST_MODEL: 0.9966130468438323\n",
      "HIGH_CORR_FOREST_MODEL RMSE: 4519.6217658043915\n",
      "PCA_FOREST_MODEL: 0.971997019932781\n",
      "PCA_FOREST_MODEL RMSE: 12995.69834704965\n"
     ]
    }
   ],
   "source": [
    "from sklearn.ensemble import RandomForestRegressor\n",
    "from sklearn.metrics import root_mean_squared_error\n",
    "\n",
    "forest_model = RandomForestRegressor()\n",
    "forest_model.fit(X_train, y_train)\n",
    "print(\"HIGH_CORR_FOREST_MODEL:\", forest_model.score(X_test, y_test))\n",
    "print(\"HIGH_CORR_FOREST_MODEL RMSE:\", root_mean_squared_error(forest_model.predict(X_test), y_test))\n",
    "\n",
    "pca_forest_model = RandomForestRegressor()\n",
    "pca_forest_model.fit(PCA_X_train, PCA_y_train)\n",
    "print(\"PCA_FOREST_MODEL:\", pca_forest_model.score(PCA_X_test, PCA_y_test))\n",
    "print(\"PCA_FOREST_MODEL RMSE:\", root_mean_squared_error(pca_forest_model.predict(PCA_X_test), PCA_y_test))"
   ]
  },
  {
   "cell_type": "code",
   "execution_count": 14,
   "metadata": {},
   "outputs": [],
   "source": [
    "from sklearn.ensemble import GradientBoostingRegressor\n",
    "\n",
    "grad_boost_model = GradientBoostingRegressor()\n",
    "grad_boost_model.fit(X_train, y_train)\n",
    "print(\"HIGH_CORR_GRAD_BOOST_MODEL:\", grad_boost_model.score(X_test, y_test))\n",
    "print(\"HIGH_CORR_GRAD_BOOST_MODEL RMSE:\", root_mean_squared_error(grad_boost_model.predict(X_test), y_test))\n",
    "\n",
    "pca_grad_boost_model = GradientBoostingRegressor()\n",
    "pca_grad_boost_model.fit(PCA_X_train, PCA_y_train)\n",
    "print(\"PCA_GRAD_BOOST_MODEL:\", pca_grad_boost_model.score(PCA_X_test, PCA_y_test))\n",
    "print(\"PCA_GRAD_BOOST_MODEL RMSE:\", root_mean_squared_error(pca_grad_boost_model.predict(PCA_X_test), PCA_y_test))"
   ]
  },
  {
   "cell_type": "code",
   "execution_count": null,
   "metadata": {},
   "outputs": [],
   "source": [
    "import xgboost\n",
    "\n",
    "xgb_model = xgboost.XGBRegressor()\n",
    "xgb_model.fit(X_train, y_train)\n",
    "print(\"HIGH_CORR_XGB_MODEL:\", xgb_model.score(X_test, y_test))\n",
    "print(\"HIGH_CORR_XGB_MODEL RMSE:\", root_mean_squared_error(xgb_model.predict(X_test), y_test))\n",
    "\n",
    "pca_xgb_model = xgboost.XGBRegressor()\n",
    "pca_xgb_model.fit(PCA_X_train, PCA_y_train)\n",
    "print(\"PCA_XGB_MODEL:\", pca_xgb_model.score(PCA_X_test, PCA_y_test))\n",
    "print(\"PCA_XGB_MODEL RMSE:\", root_mean_squared_error(pca_xgb_model.predict(PCA_X_test), PCA_y_test))"
   ]
  }
 ],
 "metadata": {
  "kernelspec": {
   "display_name": "Python 3",
   "language": "python",
   "name": "python3"
  },
  "language_info": {
   "codemirror_mode": {
    "name": "ipython",
    "version": 3
   },
   "file_extension": ".py",
   "mimetype": "text/x-python",
   "name": "python",
   "nbconvert_exporter": "python",
   "pygments_lexer": "ipython3",
   "version": "3.11.0"
  },
  "orig_nbformat": 4
 },
 "nbformat": 4,
 "nbformat_minor": 2
}
