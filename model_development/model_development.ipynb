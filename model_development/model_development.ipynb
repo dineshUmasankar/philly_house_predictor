{
 "cells": [
  {
   "cell_type": "code",
   "execution_count": null,
   "metadata": {},
   "outputs": [],
   "source": [
    "from sklearn.model_selection import train_test_split\n",
    "import pandas as pd\n",
    "\n",
    "high_correlations = pd.read_csv('high_correlations.csv')\n",
    "target_variable = high_correlations['market_value_capped']\n",
    "high_correlations = high_correlations.drop(columns=['market_value_capped'])\n",
    "X_train, X_test, y_train, y_test = train_test_split(high_correlations, target_variable, test_size=0.2, random_state=42)\n",
    "\n",
    "\n",
    "pca_10principal = pd.read_csv('pca_10component.csv')\n",
    "target_variable = pca_10principal['market_value_capped']\n",
    "pca_10principal = pca_10principal.drop(columns=['market_value_capped'])\n",
    "PCA_X_train, PCA_X_test, PCA_y_train, PCA_y_test = train_test_split(pca_10principal, target_variable, test_size=0.2, random_state=42)"
   ]
  }
 ],
 "metadata": {
  "language_info": {
   "name": "python"
  },
  "orig_nbformat": 4
 },
 "nbformat": 4,
 "nbformat_minor": 2
}
