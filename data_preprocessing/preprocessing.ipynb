{
 "cells": [
  {
   "cell_type": "code",
   "execution_count": 5,
   "metadata": {},
   "outputs": [
    {
     "name": "stderr",
     "output_type": "stream",
     "text": [
      "C:\\Users\\dines\\AppData\\Local\\Temp\\ipykernel_19312\\3728655556.py:26: DtypeWarning: Columns (5,26,77) have mixed types. Specify dtype option on import or set low_memory=False.\n",
      "  df = pd.read_csv('original_dataset.csv')\n"
     ]
    },
    {
     "data": {
      "text/plain": [
       "435"
      ]
     },
     "execution_count": 5,
     "metadata": {},
     "output_type": "execute_result"
    }
   ],
   "source": [
    "import pandas as pd\n",
    "\n",
    "def drop_high_missing_percent_columns(df):\n",
    "    # Drop columns with more than 25% missing values\n",
    "    df = df.dropna(thresh=len(df) * 0.25, axis=1)\n",
    "    return df\n",
    "\n",
    "def drop_high_cardinality_columns(df):\n",
    "    # Drop columns with too many distinct values as we want to form clusters within the dataset\n",
    "    # and create relationships between the features. These distinct values within a single column for\n",
    "    # every single record blurs the relationships, and as such we are removing it.\n",
    "    # The entire dataset has about 580k rows at this point, so we are targeting columns with 20% distinct values (116k distinct values)\n",
    "    high_cardinality_columns = [col for col in df.columns if df[col].nunique() > 116_000]\n",
    "    # The high_cardinality columns are: ['the_geom', 'the_geom_webmercator', 'book_and_page', 'location', 'parcel_number', 'registry_number', 'pin', 'objectid', 'lat', 'lng']\n",
    "    # We want to preserve lat,lng so we remove it from the list\n",
    "    high_cardinality_columns.remove('lat')\n",
    "    high_cardinality_columns.remove('lng')\n",
    "    df = df.drop(columns=high_cardinality_columns)\n",
    "    return df\n",
    "\n",
    "def filter_single_multifamily_homes(df):\n",
    "    # Filter out only homes (single / multi-family homes)\n",
    "    df = df[(df['category_code_description'] == \"SINGLE FAMILY\") | (df['category_code_description'] == \"MULTI FAMILY\")]\n",
    "    return df\n",
    "\n",
    "# Load original_dataset from Office of Property Assessments\n",
    "df = pd.read_csv('original_dataset.csv')\n",
    "\n",
    "df_clean_missing = drop_high_missing_percent_columns(df.copy())\n",
    "df_clean_high_cardinality = drop_high_cardinality_columns(df_clean_missing.copy())\n",
    "df_filter_single_multifamily_homes = filter_single_multifamily_homes(df_clean_high_cardinality.copy())"
   ]
  }
 ],
 "metadata": {
  "kernelspec": {
   "display_name": "Python 3",
   "language": "python",
   "name": "python3"
  },
  "language_info": {
   "codemirror_mode": {
    "name": "ipython",
    "version": 3
   },
   "file_extension": ".py",
   "mimetype": "text/x-python",
   "name": "python",
   "nbconvert_exporter": "python",
   "pygments_lexer": "ipython3",
   "version": "3.11.0"
  },
  "orig_nbformat": 4
 },
 "nbformat": 4,
 "nbformat_minor": 2
}
