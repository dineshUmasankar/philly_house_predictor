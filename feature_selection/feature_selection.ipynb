{
 "cells": [
  {
   "cell_type": "code",
   "execution_count": 2,
   "metadata": {},
   "outputs": [
    {
     "data": {
      "text/plain": [
       "interior_encoded            -0.357507\n",
       "basements_encoded           -0.356073\n",
       "type_heater_encoded         -0.295382\n",
       "exterior_encoded            -0.291876\n",
       "zoning_5                    -0.281759\n",
       "number_stories               0.200853\n",
       "depth_capped                 0.203431\n",
       "exempt_building_encoded      0.239870\n",
       "total_area_capped            0.298820\n",
       "total_livable_area_capped    0.303153\n",
       "exempt_building_capped       0.306462\n",
       "frontage_capped              0.311095\n",
       "zip_code_0                   0.384521\n",
       "taxable_building_capped      0.752963\n",
       "taxable_land_capped          0.972209\n",
       "market_value_capped          1.000000\n",
       "dtype: float64"
      ]
     },
     "execution_count": 2,
     "metadata": {},
     "output_type": "execute_result"
    }
   ],
   "source": [
    "import pandas as pd\n",
    "\n",
    "df = pd.read_csv('scaled.csv')\n",
    "df.corrwith(df['market_value_capped']).to_csv('all_corrs.csv', header=True)\n",
    "\n",
    "correlations = df.corrwith(df['market_value_capped'])\n",
    "\n",
    "strong_correlations = correlations[abs(correlations) > 0.20]\n",
    "strong_correlations.sort_values()"
   ]
  }
 ],
 "metadata": {
  "kernelspec": {
   "display_name": "Python 3",
   "language": "python",
   "name": "python3"
  },
  "language_info": {
   "codemirror_mode": {
    "name": "ipython",
    "version": 3
   },
   "file_extension": ".py",
   "mimetype": "text/x-python",
   "name": "python",
   "nbconvert_exporter": "python",
   "pygments_lexer": "ipython3",
   "version": "3.11.0"
  },
  "orig_nbformat": 4
 },
 "nbformat": 4,
 "nbformat_minor": 2
}
